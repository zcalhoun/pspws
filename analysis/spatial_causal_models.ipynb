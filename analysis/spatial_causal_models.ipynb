{
 "cells": [
  {
   "cell_type": "markdown",
   "metadata": {},
   "source": [
    "# Extract census tract averages from model data\n",
    "In this notebook, I extract the spatial averages from the previous research model outputs, so that I can get the spatial mean for each location."
   ]
  },
  {
   "cell_type": "code",
   "execution_count": 1,
   "metadata": {},
   "outputs": [],
   "source": [
    "import numpy as np\n",
    "from matplotlib import pyplot as plt\n",
    "import rasterio as rio\n",
    "import geopandas as gpd\n",
    "import pandas as pd"
   ]
  },
  {
   "cell_type": "code",
   "execution_count": 2,
   "metadata": {},
   "outputs": [],
   "source": [
    "# Open the block group and census tract level TIFFs\n",
    "with rio.open('../data/preprocessed/census/census_tracts_by_spatial_model_geoid.tif') as src:\n",
    "    ct = src.read(1)\n",
    "    ct_meta = src.meta\n",
    "\n",
    "with rio.open('../data/preprocessed/census_blocks/block_group_by_spatial_model_geoid.tif') as src:\n",
    "    bg = src.read(1)\n",
    "    bg_meta = src.meta"
   ]
  },
  {
   "cell_type": "code",
   "execution_count": 3,
   "metadata": {},
   "outputs": [],
   "source": [
    "temp_path = '../data/preprocessed/spatial_causal_model_results/durham_temp_celsius.tif'\n",
    "confound_path = '../data/preprocessed/spatial_causal_model_results/durham_temp_confound.tif'\n",
    "no_unobs_path = '../data/preprocessed/spatial_causal_model_results/durham_temp_celsius_no_unobs.tif'\n",
    "confound_dp = '../data/preprocessed/spatial_causal_model_results/durham_temp_confound_dot_product.tif'\n",
    "# Open the temperature TIFFs\n",
    "with rio.open(temp_path) as src:\n",
    "    temp = src.read(1)\n",
    "    temp_meta = src.meta\n",
    "\n",
    "with rio.open(confound_path) as src:\n",
    "    confound = src.read(1)\n",
    "    confound_meta = src.meta\n",
    "\n",
    "with rio.open(no_unobs_path) as src:\n",
    "    no_unobs = src.read(1)\n",
    "    no_unobs_meta = src.meta\n",
    "\n",
    "with rio.open(confound_dp) as src:\n",
    "    confound_dp = src.read(1)\n",
    "    confound_dp_meta = src.meta"
   ]
  },
  {
   "cell_type": "code",
   "execution_count": 4,
   "metadata": {},
   "outputs": [],
   "source": [
    "geoids = []\n",
    "temp_means = []\n",
    "confound_means = []\n",
    "confound_dp_means = []\n",
    "no_unobs_means = []\n",
    "\n",
    "for tract in np.unique(ct):\n",
    "    mask = ct == tract\n",
    "    geoids.append(tract)\n",
    "    temp_means.append(np.nanmean(temp[mask]))\n",
    "    confound_means.append(np.nanmean(confound[mask]))\n",
    "    confound_dp_means.append(np.nanmean(confound_dp[mask]))\n",
    "    no_unobs_means.append(np.nanmean(no_unobs[mask]))"
   ]
  },
  {
   "cell_type": "code",
   "execution_count": 5,
   "metadata": {},
   "outputs": [
    {
     "data": {
      "text/html": [
       "<div>\n",
       "<style scoped>\n",
       "    .dataframe tbody tr th:only-of-type {\n",
       "        vertical-align: middle;\n",
       "    }\n",
       "\n",
       "    .dataframe tbody tr th {\n",
       "        vertical-align: top;\n",
       "    }\n",
       "\n",
       "    .dataframe thead th {\n",
       "        text-align: right;\n",
       "    }\n",
       "</style>\n",
       "<table border=\"1\" class=\"dataframe\">\n",
       "  <thead>\n",
       "    <tr style=\"text-align: right;\">\n",
       "      <th></th>\n",
       "      <th>geoid</th>\n",
       "      <th>temp</th>\n",
       "      <th>confound</th>\n",
       "      <th>no_unobs</th>\n",
       "      <th>counfound_dp</th>\n",
       "    </tr>\n",
       "  </thead>\n",
       "  <tbody>\n",
       "    <tr>\n",
       "      <th>0</th>\n",
       "      <td>0</td>\n",
       "      <td>26.394690</td>\n",
       "      <td>0.160840</td>\n",
       "      <td>26.253919</td>\n",
       "      <td>0.134647</td>\n",
       "    </tr>\n",
       "    <tr>\n",
       "      <th>1</th>\n",
       "      <td>37063000101</td>\n",
       "      <td>26.015177</td>\n",
       "      <td>-0.899160</td>\n",
       "      <td>26.914338</td>\n",
       "      <td>-0.441683</td>\n",
       "    </tr>\n",
       "    <tr>\n",
       "      <th>2</th>\n",
       "      <td>37063000102</td>\n",
       "      <td>26.032398</td>\n",
       "      <td>-1.058885</td>\n",
       "      <td>27.091283</td>\n",
       "      <td>-0.336193</td>\n",
       "    </tr>\n",
       "    <tr>\n",
       "      <th>3</th>\n",
       "      <td>37063000200</td>\n",
       "      <td>26.700919</td>\n",
       "      <td>-0.411577</td>\n",
       "      <td>27.112496</td>\n",
       "      <td>-0.271472</td>\n",
       "    </tr>\n",
       "    <tr>\n",
       "      <th>4</th>\n",
       "      <td>37063000301</td>\n",
       "      <td>26.968267</td>\n",
       "      <td>-0.535571</td>\n",
       "      <td>27.503838</td>\n",
       "      <td>-0.114608</td>\n",
       "    </tr>\n",
       "  </tbody>\n",
       "</table>\n",
       "</div>"
      ],
      "text/plain": [
       "         geoid       temp  confound   no_unobs  counfound_dp\n",
       "0            0  26.394690  0.160840  26.253919      0.134647\n",
       "1  37063000101  26.015177 -0.899160  26.914338     -0.441683\n",
       "2  37063000102  26.032398 -1.058885  27.091283     -0.336193\n",
       "3  37063000200  26.700919 -0.411577  27.112496     -0.271472\n",
       "4  37063000301  26.968267 -0.535571  27.503838     -0.114608"
      ]
     },
     "execution_count": 5,
     "metadata": {},
     "output_type": "execute_result"
    }
   ],
   "source": [
    "# Turn into a pandas dataframe\n",
    "df = pd.DataFrame({'geoid': geoids, 'temp': temp_means, 'confound': confound_means, 'no_unobs': no_unobs_means, 'counfound_dp': confound_dp_means})\n",
    "\n",
    "df.head()"
   ]
  },
  {
   "cell_type": "code",
   "execution_count": 6,
   "metadata": {},
   "outputs": [],
   "source": [
    "# Save the dataframe\n",
    "df.to_csv('../data/preprocessed/spatial_causal_model_results/by_census_tract.csv', index=False)"
   ]
  },
  {
   "cell_type": "code",
   "execution_count": 7,
   "metadata": {},
   "outputs": [],
   "source": [
    "geoids = []\n",
    "temp_means = []\n",
    "confound_means = []\n",
    "confound_dp_means = []\n",
    "no_unobs_means = []\n",
    "\n",
    "for group in np.unique(bg):\n",
    "    mask = bg == group\n",
    "    geoids.append(group)\n",
    "    temp_means.append(np.nanmean(temp[mask]))\n",
    "    confound_means.append(np.nanmean(confound[mask]))\n",
    "    no_unobs_means.append(np.nanmean(no_unobs[mask]))\n",
    "    confound_dp_means.append(np.nanmean(confound_dp[mask]))"
   ]
  },
  {
   "cell_type": "code",
   "execution_count": 8,
   "metadata": {},
   "outputs": [
    {
     "data": {
      "text/html": [
       "<div>\n",
       "<style scoped>\n",
       "    .dataframe tbody tr th:only-of-type {\n",
       "        vertical-align: middle;\n",
       "    }\n",
       "\n",
       "    .dataframe tbody tr th {\n",
       "        vertical-align: top;\n",
       "    }\n",
       "\n",
       "    .dataframe thead th {\n",
       "        text-align: right;\n",
       "    }\n",
       "</style>\n",
       "<table border=\"1\" class=\"dataframe\">\n",
       "  <thead>\n",
       "    <tr style=\"text-align: right;\">\n",
       "      <th></th>\n",
       "      <th>geoid</th>\n",
       "      <th>temp</th>\n",
       "      <th>confound</th>\n",
       "      <th>no_unobs</th>\n",
       "      <th>counfound_dp</th>\n",
       "    </tr>\n",
       "  </thead>\n",
       "  <tbody>\n",
       "    <tr>\n",
       "      <th>0</th>\n",
       "      <td>0</td>\n",
       "      <td>26.394690</td>\n",
       "      <td>0.160840</td>\n",
       "      <td>26.253919</td>\n",
       "      <td>0.134647</td>\n",
       "    </tr>\n",
       "    <tr>\n",
       "      <th>1</th>\n",
       "      <td>370630001011</td>\n",
       "      <td>26.242741</td>\n",
       "      <td>-0.813138</td>\n",
       "      <td>27.055879</td>\n",
       "      <td>-0.398611</td>\n",
       "    </tr>\n",
       "    <tr>\n",
       "      <th>2</th>\n",
       "      <td>370630001012</td>\n",
       "      <td>25.724601</td>\n",
       "      <td>-1.009002</td>\n",
       "      <td>26.733603</td>\n",
       "      <td>-0.496682</td>\n",
       "    </tr>\n",
       "    <tr>\n",
       "      <th>3</th>\n",
       "      <td>370630001021</td>\n",
       "      <td>25.932258</td>\n",
       "      <td>-1.373066</td>\n",
       "      <td>27.305325</td>\n",
       "      <td>-0.277743</td>\n",
       "    </tr>\n",
       "    <tr>\n",
       "      <th>4</th>\n",
       "      <td>370630001022</td>\n",
       "      <td>25.946321</td>\n",
       "      <td>-0.746686</td>\n",
       "      <td>26.693007</td>\n",
       "      <td>-0.330941</td>\n",
       "    </tr>\n",
       "  </tbody>\n",
       "</table>\n",
       "</div>"
      ],
      "text/plain": [
       "          geoid       temp  confound   no_unobs  counfound_dp\n",
       "0             0  26.394690  0.160840  26.253919      0.134647\n",
       "1  370630001011  26.242741 -0.813138  27.055879     -0.398611\n",
       "2  370630001012  25.724601 -1.009002  26.733603     -0.496682\n",
       "3  370630001021  25.932258 -1.373066  27.305325     -0.277743\n",
       "4  370630001022  25.946321 -0.746686  26.693007     -0.330941"
      ]
     },
     "execution_count": 8,
     "metadata": {},
     "output_type": "execute_result"
    }
   ],
   "source": [
    "# Create a dataframe\n",
    "df = pd.DataFrame({'geoid': geoids, 'temp': temp_means, 'confound': confound_means, 'no_unobs': no_unobs_means, 'counfound_dp': confound_dp_means})\n",
    "df.head()"
   ]
  },
  {
   "cell_type": "code",
   "execution_count": 9,
   "metadata": {},
   "outputs": [],
   "source": [
    "# save the dataframe\n",
    "df.to_csv('../data/preprocessed/spatial_causal_model_results/by_block_group.csv', index=False)"
   ]
  },
  {
   "cell_type": "code",
   "execution_count": 10,
   "metadata": {},
   "outputs": [
    {
     "name": "stdout",
     "output_type": "stream",
     "text": [
      "True\n"
     ]
    }
   ],
   "source": [
    "# Confirm that all of the bounds are the same...\n",
    "files = [\n",
    "    '../data/preprocessed/spatial_causal_model_results/durham_temp_celsius.tif',\n",
    "    '../data/preprocessed/spatial_causal_model_results/durham_temp_confound.tif',\n",
    "    '../data/preprocessed/spatial_causal_model_results/durham_temp_celsius_no_unobs.tif',\n",
    "    '../data/preprocessed/spatial_causal_model_results/durham_temp_confound_dot_product.tif'\n",
    "]\n",
    "\n",
    "bounds = []\n",
    "\n",
    "for fn in files:\n",
    "    with rio.open(fn) as src:\n",
    "        bounds.append(src.bounds)\n",
    "\n",
    "\n",
    "# print(bounds)\n",
    "\n",
    "# Are all bounds equal?\n",
    "print(all([b == bounds[0] for b in bounds]))\n"
   ]
  }
 ],
 "metadata": {
  "kernelspec": {
   "display_name": "pspws",
   "language": "python",
   "name": "python3"
  },
  "language_info": {
   "codemirror_mode": {
    "name": "ipython",
    "version": 3
   },
   "file_extension": ".py",
   "mimetype": "text/x-python",
   "name": "python",
   "nbconvert_exporter": "python",
   "pygments_lexer": "ipython3",
   "version": "3.11.7"
  }
 },
 "nbformat": 4,
 "nbformat_minor": 2
}
