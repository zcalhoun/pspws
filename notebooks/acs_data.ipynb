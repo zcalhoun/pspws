{
 "cells": [
  {
   "cell_type": "markdown",
   "metadata": {},
   "source": [
    "# ACS Data\n",
    "This notebook provides an example of how the American Community Survey can be accessed.\n",
    "\n",
    "NOTE: You need a key to do this, which you can request online [here](https://api.census.gov/data/key_signup.html).\n",
    "\n",
    "You'll also need to obtain a shapefile that contains the geography in lat/lon coordinates, so you can later obtain the Weather Underground data and analyze that data. You can find that for your state/county [here](https://www2.census.gov/geo/tiger/TIGER2020/)."
   ]
  },
  {
   "cell_type": "code",
   "execution_count": 10,
   "metadata": {},
   "outputs": [],
   "source": [
    "import os\n",
    "import requests\n",
    "import json\n",
    "import warnings\n",
    "warnings.filterwarnings(\"ignore\")\n",
    "\n",
    "import pandas as pd\n",
    "import geopandas as gpd"
   ]
  },
  {
   "cell_type": "code",
   "execution_count": 5,
   "metadata": {},
   "outputs": [
    {
     "name": "stdout",
     "output_type": "stream",
     "text": [
      "bc6ed4255d6ca9a9332ffc8219bee15b80e16631\n"
     ]
    }
   ],
   "source": [
    "# Key is hidden in a file that is not on github.\n",
    " \n",
    "# Read the json file that has the key\n",
    "with open('../acs_key.json') as f:\n",
    "    data = json.load(f)\n",
    "    key = data['key']"
   ]
  },
  {
   "cell_type": "code",
   "execution_count": 6,
   "metadata": {},
   "outputs": [],
   "source": [
    "# Look at the base URL and obtain the variables desired.\n",
    "# Variables\n",
    "#     -- income : B19013_001E\n",
    "#     -- population : \"B01003_001E\n",
    "base_url = \"https://api.census.gov/data/2022/acs/acs5?get=NAME,B19013_001E,B01003_001E\"\n",
    "\n",
    "params = {\n",
    "    \"for\": \"tract:*\",\n",
    "    \"in\": \"state:37\",\n",
    "    \"key\": key\n",
    "}\n",
    "\n",
    "response = requests.get(base_url, params=params)\n",
    "acs_tract = pd.DataFrame(response.json()[1:], columns=response.json()[0])"
   ]
  },
  {
   "cell_type": "code",
   "execution_count": 15,
   "metadata": {},
   "outputs": [
    {
     "name": "stdout",
     "output_type": "stream",
     "text": [
      "305\n"
     ]
    },
    {
     "data": {
      "text/html": [
       "<div>\n",
       "<style scoped>\n",
       "    .dataframe tbody tr th:only-of-type {\n",
       "        vertical-align: middle;\n",
       "    }\n",
       "\n",
       "    .dataframe tbody tr th {\n",
       "        vertical-align: top;\n",
       "    }\n",
       "\n",
       "    .dataframe thead th {\n",
       "        text-align: right;\n",
       "    }\n",
       "</style>\n",
       "<table border=\"1\" class=\"dataframe\">\n",
       "  <thead>\n",
       "    <tr style=\"text-align: right;\">\n",
       "      <th></th>\n",
       "      <th>income</th>\n",
       "      <th>population</th>\n",
       "      <th>tract</th>\n",
       "    </tr>\n",
       "  </thead>\n",
       "  <tbody>\n",
       "    <tr>\n",
       "      <th>1396</th>\n",
       "      <td>101587</td>\n",
       "      <td>1148</td>\n",
       "      <td>000101</td>\n",
       "    </tr>\n",
       "    <tr>\n",
       "      <th>1397</th>\n",
       "      <td>123650</td>\n",
       "      <td>2741</td>\n",
       "      <td>000102</td>\n",
       "    </tr>\n",
       "    <tr>\n",
       "      <th>1398</th>\n",
       "      <td>131398</td>\n",
       "      <td>2042</td>\n",
       "      <td>000103</td>\n",
       "    </tr>\n",
       "    <tr>\n",
       "      <th>1399</th>\n",
       "      <td>109896</td>\n",
       "      <td>1619</td>\n",
       "      <td>000104</td>\n",
       "    </tr>\n",
       "    <tr>\n",
       "      <th>1400</th>\n",
       "      <td>82500</td>\n",
       "      <td>954</td>\n",
       "      <td>000301</td>\n",
       "    </tr>\n",
       "  </tbody>\n",
       "</table>\n",
       "</div>"
      ],
      "text/plain": [
       "      income population   tract\n",
       "1396  101587       1148  000101\n",
       "1397  123650       2741  000102\n",
       "1398  131398       2042  000103\n",
       "1399  109896       1619  000104\n",
       "1400   82500        954  000301"
      ]
     },
     "execution_count": 15,
     "metadata": {},
     "output_type": "execute_result"
    }
   ],
   "source": [
    "# Select the columns you want based on the variables you want.\n",
    "charlotte_acs = acs_tract[acs_tract[\"county\"] == \"119\"]\n",
    "print(len(charlotte_acs))\n",
    "\n",
    "# Rename B19013_001E to income and B01003_001E to population\n",
    "charlotte_acs = charlotte_acs.rename(columns={\n",
    "    \"B19013_001E\": \"income\",\n",
    "    \"B01003_001E\": \"population\"\n",
    "})\n",
    "\n",
    "\n",
    "# Drop the name column\n",
    "charlotte_acs = charlotte_acs.drop(columns=[\"NAME\", 'state', 'county'])\n",
    "\n",
    "charlotte_acs.head()"
   ]
  },
  {
   "cell_type": "code",
   "execution_count": 16,
   "metadata": {},
   "outputs": [],
   "source": [
    "# This dataset was obtained from the TIGER/Line shapefiles from the US Census Bureau.\n",
    "census_tracts = gpd.read_file('../data/raw/census/tl_2020_37_tract/tl_2020_37_tract.shp')\n",
    "# Filter out to only look at the county code you care about\n",
    "charlotte = census_tracts[census_tracts['COUNTYFP'] == '119']"
   ]
  },
  {
   "cell_type": "code",
   "execution_count": 17,
   "metadata": {},
   "outputs": [
    {
     "data": {
      "text/html": [
       "<div>\n",
       "<style scoped>\n",
       "    .dataframe tbody tr th:only-of-type {\n",
       "        vertical-align: middle;\n",
       "    }\n",
       "\n",
       "    .dataframe tbody tr th {\n",
       "        vertical-align: top;\n",
       "    }\n",
       "\n",
       "    .dataframe thead th {\n",
       "        text-align: right;\n",
       "    }\n",
       "</style>\n",
       "<table border=\"1\" class=\"dataframe\">\n",
       "  <thead>\n",
       "    <tr style=\"text-align: right;\">\n",
       "      <th></th>\n",
       "      <th>GEOID</th>\n",
       "      <th>NAMELSAD</th>\n",
       "      <th>MTFCC</th>\n",
       "      <th>FUNCSTAT</th>\n",
       "      <th>ALAND</th>\n",
       "      <th>AWATER</th>\n",
       "      <th>INTPTLAT</th>\n",
       "      <th>INTPTLON</th>\n",
       "      <th>geometry</th>\n",
       "      <th>income</th>\n",
       "      <th>population</th>\n",
       "    </tr>\n",
       "  </thead>\n",
       "  <tbody>\n",
       "    <tr>\n",
       "      <th>0</th>\n",
       "      <td>37119002701</td>\n",
       "      <td>Census Tract 27.01</td>\n",
       "      <td>G5020</td>\n",
       "      <td>S</td>\n",
       "      <td>1671003</td>\n",
       "      <td>0</td>\n",
       "      <td>+35.2004703</td>\n",
       "      <td>-080.8309136</td>\n",
       "      <td>POLYGON ((-80.83839 35.19628, -80.83831 35.196...</td>\n",
       "      <td>236115</td>\n",
       "      <td>2925</td>\n",
       "    </tr>\n",
       "    <tr>\n",
       "      <th>1</th>\n",
       "      <td>37119005404</td>\n",
       "      <td>Census Tract 54.04</td>\n",
       "      <td>G5020</td>\n",
       "      <td>S</td>\n",
       "      <td>5366655</td>\n",
       "      <td>53444</td>\n",
       "      <td>+35.2860580</td>\n",
       "      <td>-080.8140714</td>\n",
       "      <td>POLYGON ((-80.83657 35.27296, -80.83650 35.273...</td>\n",
       "      <td>52321</td>\n",
       "      <td>4439</td>\n",
       "    </tr>\n",
       "    <tr>\n",
       "      <th>2</th>\n",
       "      <td>37119005403</td>\n",
       "      <td>Census Tract 54.03</td>\n",
       "      <td>G5020</td>\n",
       "      <td>S</td>\n",
       "      <td>6132898</td>\n",
       "      <td>33162</td>\n",
       "      <td>+35.2993564</td>\n",
       "      <td>-080.8204775</td>\n",
       "      <td>POLYGON ((-80.84000 35.29855, -80.83999 35.299...</td>\n",
       "      <td>58333</td>\n",
       "      <td>6003</td>\n",
       "    </tr>\n",
       "    <tr>\n",
       "      <th>3</th>\n",
       "      <td>37119005519</td>\n",
       "      <td>Census Tract 55.19</td>\n",
       "      <td>G5020</td>\n",
       "      <td>S</td>\n",
       "      <td>6060922</td>\n",
       "      <td>47091</td>\n",
       "      <td>+35.3678200</td>\n",
       "      <td>-080.7394872</td>\n",
       "      <td>POLYGON ((-80.76510 35.37745, -80.76509 35.377...</td>\n",
       "      <td>71194</td>\n",
       "      <td>5653</td>\n",
       "    </tr>\n",
       "    <tr>\n",
       "      <th>4</th>\n",
       "      <td>37119005516</td>\n",
       "      <td>Census Tract 55.16</td>\n",
       "      <td>G5020</td>\n",
       "      <td>S</td>\n",
       "      <td>1210608</td>\n",
       "      <td>14870</td>\n",
       "      <td>+35.3843829</td>\n",
       "      <td>-080.7667350</td>\n",
       "      <td>POLYGON ((-80.77800 35.39118, -80.77596 35.392...</td>\n",
       "      <td>114018</td>\n",
       "      <td>1950</td>\n",
       "    </tr>\n",
       "  </tbody>\n",
       "</table>\n",
       "</div>"
      ],
      "text/plain": [
       "         GEOID            NAMELSAD  MTFCC FUNCSTAT    ALAND  AWATER  \\\n",
       "0  37119002701  Census Tract 27.01  G5020        S  1671003       0   \n",
       "1  37119005404  Census Tract 54.04  G5020        S  5366655   53444   \n",
       "2  37119005403  Census Tract 54.03  G5020        S  6132898   33162   \n",
       "3  37119005519  Census Tract 55.19  G5020        S  6060922   47091   \n",
       "4  37119005516  Census Tract 55.16  G5020        S  1210608   14870   \n",
       "\n",
       "      INTPTLAT      INTPTLON  \\\n",
       "0  +35.2004703  -080.8309136   \n",
       "1  +35.2860580  -080.8140714   \n",
       "2  +35.2993564  -080.8204775   \n",
       "3  +35.3678200  -080.7394872   \n",
       "4  +35.3843829  -080.7667350   \n",
       "\n",
       "                                            geometry  income population  \n",
       "0  POLYGON ((-80.83839 35.19628, -80.83831 35.196...  236115       2925  \n",
       "1  POLYGON ((-80.83657 35.27296, -80.83650 35.273...   52321       4439  \n",
       "2  POLYGON ((-80.84000 35.29855, -80.83999 35.299...   58333       6003  \n",
       "3  POLYGON ((-80.76510 35.37745, -80.76509 35.377...   71194       5653  \n",
       "4  POLYGON ((-80.77800 35.39118, -80.77596 35.392...  114018       1950  "
      ]
     },
     "execution_count": 17,
     "metadata": {},
     "output_type": "execute_result"
    }
   ],
   "source": [
    "# Join charlotte acs data with charlotte geodata\n",
    "charlotte_acs = charlotte.merge(charlotte_acs, left_on=\"TRACTCE\", right_on=\"tract\")\n",
    "\n",
    "# Drop more columns\n",
    "charlotte_acs = charlotte_acs.drop(columns=[\"STATEFP\", \"COUNTYFP\", \"TRACTCE\", \"NAME\", \"tract\"])\n",
    "charlotte_acs.head()"
   ]
  },
  {
   "cell_type": "code",
   "execution_count": 18,
   "metadata": {},
   "outputs": [],
   "source": [
    "# Save the formatted result for future analysis.\n",
    "charlotte_acs.to_file(\"../data/preprocessed/census/charlotte.shp\")"
   ]
  }
 ],
 "metadata": {
  "kernelspec": {
   "display_name": "geo",
   "language": "python",
   "name": "python3"
  },
  "language_info": {
   "codemirror_mode": {
    "name": "ipython",
    "version": 3
   },
   "file_extension": ".py",
   "mimetype": "text/x-python",
   "name": "python",
   "nbconvert_exporter": "python",
   "pygments_lexer": "ipython3",
   "version": "3.11.7"
  }
 },
 "nbformat": 4,
 "nbformat_minor": 2
}
