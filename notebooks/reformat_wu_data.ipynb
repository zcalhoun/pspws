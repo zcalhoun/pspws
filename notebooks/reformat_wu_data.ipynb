{
 "cells": [
  {
   "cell_type": "markdown",
   "metadata": {},
   "source": [
    "# Reformat Weather Underground Data\n",
    "This is an example notebook to show how the data was generated. Due to data use agreements, the raw weather underground data is not provided -- but please contact me if you would like some help obtaining the Weather Underground data.\n",
    "\n",
    "Note: depending on what time of day you are trying to analyze, you may want to alter this code as fit."
   ]
  },
  {
   "cell_type": "code",
   "execution_count": 7,
   "metadata": {},
   "outputs": [],
   "source": [
    "import warnings\n",
    "warnings.filterwarnings('ignore')\n",
    "\n",
    "import numpy as np\n",
    "import pandas as pd\n",
    "import geopandas as gpd\n",
    "from shapely.geometry import Point\n",
    "from matplotlib import pyplot as plt\n",
    "\n",
    "from libpysal.weights import Rook"
   ]
  },
  {
   "cell_type": "code",
   "execution_count": 56,
   "metadata": {},
   "outputs": [
    {
     "name": "stdout",
     "output_type": "stream",
     "text": [
      "278453\n",
      "269076\n"
     ]
    },
    {
     "data": {
      "text/html": [
       "<div>\n",
       "<style scoped>\n",
       "    .dataframe tbody tr th:only-of-type {\n",
       "        vertical-align: middle;\n",
       "    }\n",
       "\n",
       "    .dataframe tbody tr th {\n",
       "        vertical-align: top;\n",
       "    }\n",
       "\n",
       "    .dataframe thead th {\n",
       "        text-align: right;\n",
       "    }\n",
       "</style>\n",
       "<table border=\"1\" class=\"dataframe\">\n",
       "  <thead>\n",
       "    <tr style=\"text-align: right;\">\n",
       "      <th></th>\n",
       "      <th>station</th>\n",
       "      <th>obsTimeUtc</th>\n",
       "      <th>qcStatus</th>\n",
       "      <th>solarRadiationHigh</th>\n",
       "      <th>uvHigh</th>\n",
       "      <th>winddirAvg</th>\n",
       "      <th>humidityHigh</th>\n",
       "      <th>humidityLow</th>\n",
       "      <th>humidityAvg</th>\n",
       "      <th>tempHigh</th>\n",
       "      <th>...</th>\n",
       "      <th>windspeedLow</th>\n",
       "      <th>windspeedAvg</th>\n",
       "      <th>windgustHigh</th>\n",
       "      <th>windgustLow</th>\n",
       "      <th>windgustAvg</th>\n",
       "      <th>pressureMax</th>\n",
       "      <th>pressureMin</th>\n",
       "      <th>pressureTrend</th>\n",
       "      <th>precipRate</th>\n",
       "      <th>precipTotal</th>\n",
       "    </tr>\n",
       "  </thead>\n",
       "  <tbody>\n",
       "    <tr>\n",
       "      <th>0</th>\n",
       "      <td>KNCMATTH93</td>\n",
       "      <td>2023-07-01 00:59:47-04:00</td>\n",
       "      <td>1</td>\n",
       "      <td>0.0</td>\n",
       "      <td>0.0</td>\n",
       "      <td>179.0</td>\n",
       "      <td>92.0</td>\n",
       "      <td>90.0</td>\n",
       "      <td>90.7</td>\n",
       "      <td>23.8</td>\n",
       "      <td>...</td>\n",
       "      <td>0.0</td>\n",
       "      <td>0.0</td>\n",
       "      <td>0.0</td>\n",
       "      <td>0.0</td>\n",
       "      <td>0.0</td>\n",
       "      <td>1016.59</td>\n",
       "      <td>1015.58</td>\n",
       "      <td>-0.68</td>\n",
       "      <td>0.0</td>\n",
       "      <td>0.0</td>\n",
       "    </tr>\n",
       "    <tr>\n",
       "      <th>1</th>\n",
       "      <td>KNCMATTH93</td>\n",
       "      <td>2023-07-01 01:59:14-04:00</td>\n",
       "      <td>1</td>\n",
       "      <td>0.0</td>\n",
       "      <td>0.0</td>\n",
       "      <td>197.0</td>\n",
       "      <td>92.0</td>\n",
       "      <td>90.0</td>\n",
       "      <td>91.0</td>\n",
       "      <td>23.2</td>\n",
       "      <td>...</td>\n",
       "      <td>0.0</td>\n",
       "      <td>0.1</td>\n",
       "      <td>3.5</td>\n",
       "      <td>0.0</td>\n",
       "      <td>0.3</td>\n",
       "      <td>1016.26</td>\n",
       "      <td>1015.58</td>\n",
       "      <td>0.00</td>\n",
       "      <td>0.0</td>\n",
       "      <td>0.0</td>\n",
       "    </tr>\n",
       "    <tr>\n",
       "      <th>2</th>\n",
       "      <td>KNCMATTH93</td>\n",
       "      <td>2023-07-01 02:59:15-04:00</td>\n",
       "      <td>1</td>\n",
       "      <td>0.0</td>\n",
       "      <td>0.0</td>\n",
       "      <td>201.0</td>\n",
       "      <td>95.0</td>\n",
       "      <td>92.0</td>\n",
       "      <td>93.6</td>\n",
       "      <td>23.2</td>\n",
       "      <td>...</td>\n",
       "      <td>0.0</td>\n",
       "      <td>0.0</td>\n",
       "      <td>1.8</td>\n",
       "      <td>0.0</td>\n",
       "      <td>0.0</td>\n",
       "      <td>1016.26</td>\n",
       "      <td>1015.24</td>\n",
       "      <td>-0.69</td>\n",
       "      <td>0.0</td>\n",
       "      <td>0.0</td>\n",
       "    </tr>\n",
       "    <tr>\n",
       "      <th>3</th>\n",
       "      <td>KNCMATTH93</td>\n",
       "      <td>2023-07-01 03:59:15-04:00</td>\n",
       "      <td>1</td>\n",
       "      <td>0.0</td>\n",
       "      <td>0.0</td>\n",
       "      <td>201.0</td>\n",
       "      <td>97.0</td>\n",
       "      <td>95.0</td>\n",
       "      <td>96.2</td>\n",
       "      <td>22.8</td>\n",
       "      <td>...</td>\n",
       "      <td>0.0</td>\n",
       "      <td>0.0</td>\n",
       "      <td>0.0</td>\n",
       "      <td>0.0</td>\n",
       "      <td>0.0</td>\n",
       "      <td>1015.58</td>\n",
       "      <td>1014.90</td>\n",
       "      <td>0.00</td>\n",
       "      <td>0.0</td>\n",
       "      <td>0.0</td>\n",
       "    </tr>\n",
       "    <tr>\n",
       "      <th>4</th>\n",
       "      <td>KNCMATTH93</td>\n",
       "      <td>2023-07-01 04:59:14-04:00</td>\n",
       "      <td>1</td>\n",
       "      <td>0.0</td>\n",
       "      <td>0.0</td>\n",
       "      <td>201.0</td>\n",
       "      <td>98.0</td>\n",
       "      <td>97.0</td>\n",
       "      <td>97.3</td>\n",
       "      <td>22.3</td>\n",
       "      <td>...</td>\n",
       "      <td>0.0</td>\n",
       "      <td>0.0</td>\n",
       "      <td>0.0</td>\n",
       "      <td>0.0</td>\n",
       "      <td>0.0</td>\n",
       "      <td>1015.24</td>\n",
       "      <td>1014.90</td>\n",
       "      <td>0.00</td>\n",
       "      <td>0.0</td>\n",
       "      <td>0.0</td>\n",
       "    </tr>\n",
       "  </tbody>\n",
       "</table>\n",
       "<p>5 rows × 23 columns</p>\n",
       "</div>"
      ],
      "text/plain": [
       "      station                obsTimeUtc  qcStatus  solarRadiationHigh  uvHigh  \\\n",
       "0  KNCMATTH93 2023-07-01 00:59:47-04:00         1                 0.0     0.0   \n",
       "1  KNCMATTH93 2023-07-01 01:59:14-04:00         1                 0.0     0.0   \n",
       "2  KNCMATTH93 2023-07-01 02:59:15-04:00         1                 0.0     0.0   \n",
       "3  KNCMATTH93 2023-07-01 03:59:15-04:00         1                 0.0     0.0   \n",
       "4  KNCMATTH93 2023-07-01 04:59:14-04:00         1                 0.0     0.0   \n",
       "\n",
       "   winddirAvg  humidityHigh  humidityLow  humidityAvg  tempHigh  ...  \\\n",
       "0       179.0          92.0         90.0         90.7      23.8  ...   \n",
       "1       197.0          92.0         90.0         91.0      23.2  ...   \n",
       "2       201.0          95.0         92.0         93.6      23.2  ...   \n",
       "3       201.0          97.0         95.0         96.2      22.8  ...   \n",
       "4       201.0          98.0         97.0         97.3      22.3  ...   \n",
       "\n",
       "   windspeedLow  windspeedAvg  windgustHigh  windgustLow  windgustAvg  \\\n",
       "0           0.0           0.0           0.0          0.0          0.0   \n",
       "1           0.0           0.1           3.5          0.0          0.3   \n",
       "2           0.0           0.0           1.8          0.0          0.0   \n",
       "3           0.0           0.0           0.0          0.0          0.0   \n",
       "4           0.0           0.0           0.0          0.0          0.0   \n",
       "\n",
       "   pressureMax  pressureMin  pressureTrend  precipRate  precipTotal  \n",
       "0      1016.59      1015.58          -0.68         0.0          0.0  \n",
       "1      1016.26      1015.58           0.00         0.0          0.0  \n",
       "2      1016.26      1015.24          -0.69         0.0          0.0  \n",
       "3      1015.58      1014.90           0.00         0.0          0.0  \n",
       "4      1015.24      1014.90           0.00         0.0          0.0  \n",
       "\n",
       "[5 rows x 23 columns]"
      ]
     },
     "execution_count": 56,
     "metadata": {},
     "output_type": "execute_result"
    }
   ],
   "source": [
    "# Read a shape file\n",
    "df = gpd.read_file('../preprocessed_data/charlotte_july_2023/census_tract.shp')\n",
    "df = df.replace('-', np.nan)\n",
    "\n",
    "# Read the WU data\n",
    "wu_data = pd.read_csv('../data/raw/temperature/weather_underground/charlotte.csv')\n",
    "\n",
    "wu_data = wu_data[wu_data['qcStatus'] == 1]\n",
    "print(len(wu_data))\n",
    "wu_data = wu_data[~wu_data['tempAvg'].isna()]\n",
    "print(len(wu_data))\n",
    "\n",
    "# Change obsTimeUtc to timestamp with UTC timezone\n",
    "wu_data['obsTimeUtc'] = pd.to_datetime(wu_data['obsTimeUtc'])\n",
    "# Change timezone to Eastern\n",
    "wu_data['obsTimeUtc'] = wu_data['obsTimeUtc'].dt.tz_convert('US/Eastern')\n",
    "wu_data.head()"
   ]
  },
  {
   "cell_type": "markdown",
   "metadata": {},
   "source": [
    "If you only want to look at a specific time, use the cell below to filter accordingly."
   ]
  },
  {
   "cell_type": "code",
   "execution_count": 58,
   "metadata": {},
   "outputs": [],
   "source": [
    "\n",
    "# only keep data with 7pm observation time\n",
    "# print(len(wu_data))\n",
    "wu_data = wu_data[wu_data['obsTimeUtc'].dt.hour == 19]\n",
    "# print(len(wu_data))\n",
    "\n",
    "# # Filter so that minute > 30\n",
    "# print(len(wu_data))\n",
    "wu_data = wu_data[wu_data['obsTimeUtc'].dt.minute > 30]\n",
    "# print(len(wu_data))"
   ]
  },
  {
   "cell_type": "code",
   "execution_count": 59,
   "metadata": {},
   "outputs": [
    {
     "name": "stdout",
     "output_type": "stream",
     "text": [
      "11058\n",
      "11058\n"
     ]
    }
   ],
   "source": [
    "print(len(wu_data))\n",
    "# Set index as stationId and obsTimeUtc\n",
    "wu_data = wu_data.set_index(['station', 'obsTimeUtc'])\n",
    "\n",
    "# Remove duplicates\n",
    "wu_data = wu_data[~wu_data.index.duplicated(keep='first')]\n",
    "\n",
    "print(len(wu_data))\n",
    "\n",
    "wu_data.reset_index(inplace=True)\n",
    "\n",
    "wu_data['date'] = wu_data['obsTimeUtc'].dt.date\n"
   ]
  },
  {
   "cell_type": "code",
   "execution_count": 60,
   "metadata": {},
   "outputs": [],
   "source": [
    "# Change date to string -- select a specific day\n",
    "wu_data['date'] = wu_data['date'].astype(str)\n",
    "# wu_data = wu_data[wu_data['date'] == '2023-07-28']"
   ]
  },
  {
   "cell_type": "code",
   "execution_count": 29,
   "metadata": {},
   "outputs": [],
   "source": [
    "# Obtain the minimum average temperature by stationId and date\n",
    "# min_temp = wu_data.groupby(['stationId', 'date'])['tempAvg'].min().reset_index()\n",
    "# Only keep if date has month of 5\n",
    "# min_temp['date'] = pd.to_datetime(min_temp['date'])\n",
    "# # min_temp = min_temp[min_temp['date'].dt.month == 9]\n",
    "# min_temp"
   ]
  },
  {
   "cell_type": "code",
   "execution_count": 61,
   "metadata": {},
   "outputs": [],
   "source": [
    "# pt = pd.pivot_table(wu_data, index='stationId', values='tempAvg', aggfunc=('count', 'mean'))\n",
    "pt = pd.pivot_table(wu_data, index='station', values='tempAvg', aggfunc=('count', 'mean'))"
   ]
  },
  {
   "cell_type": "code",
   "execution_count": 62,
   "metadata": {},
   "outputs": [
    {
     "name": "stdout",
     "output_type": "stream",
     "text": [
      "385\n",
      "385\n"
     ]
    }
   ],
   "source": [
    "# only keep stations with 31 observations\n",
    "print(len(pt))\n",
    "# pt = pt[pt['count'] > 29]\n",
    "pt.reset_index(inplace=True)\n",
    "print(len(pt))"
   ]
  },
  {
   "cell_type": "code",
   "execution_count": 63,
   "metadata": {},
   "outputs": [],
   "source": [
    "# We obtain the lat/lon data for each station by reading from the list of stations\n",
    "stations = pd.read_csv('../data/raw/temperature/weather_underground/charlotte_stations.csv')\n",
    "stations = stations[stations['qc_status'] == 1]"
   ]
  },
  {
   "cell_type": "code",
   "execution_count": 64,
   "metadata": {},
   "outputs": [
    {
     "name": "stdout",
     "output_type": "stream",
     "text": [
      "385\n",
      "385\n"
     ]
    }
   ],
   "source": [
    "print(len(pt))\n",
    "pt = pt.merge(stations, left_on='station', right_on='station_id', how='inner')\n",
    "pt.head()\n",
    "print(len(pt))"
   ]
  },
  {
   "cell_type": "code",
   "execution_count": 65,
   "metadata": {},
   "outputs": [],
   "source": [
    "mu = pt['mean'].mean()\n",
    "std = pt['mean'].std()\n",
    "\n",
    "# only keep values with mean less than 2 standard deviations above mean\n",
    "pt = pt[pt['mean'] < mu + 2 * std]"
   ]
  },
  {
   "cell_type": "markdown",
   "metadata": {},
   "source": [
    "This is the main piece of code that agreggates station data that falls within a census tract or census block group (depending on which shape file you are using)."
   ]
  },
  {
   "cell_type": "code",
   "execution_count": 66,
   "metadata": {},
   "outputs": [],
   "source": [
    "geoid = []\n",
    "income = []\n",
    "population = []\n",
    "num_stations = []\n",
    "eve_avg = []\n",
    "area = []\n",
    "geometry = []\n",
    "\n",
    "\n",
    "for i, row in df.iterrows():\n",
    "    count = 0\n",
    "    sum_temp = 0\n",
    "\n",
    "    for j, s in pt.iterrows():\n",
    "        # Check if station is in polygon\n",
    "        p = Point(s['longitude'], s['latitude'])\n",
    "        if row.geometry.contains(p):\n",
    "            count += 1\n",
    "            sum_temp += s['mean']\n",
    "\n",
    "\n",
    "    geoid.append(row['geoid'])\n",
    "    income.append(row['income'])\n",
    "    population.append(row['population'])\n",
    "    area.append(row['area'])\n",
    "    geometry.append(row['geometry'])\n",
    "    num_stations.append(count)\n",
    "\n",
    "    if count == 0:\n",
    "        eve_avg.append(np.nan)\n",
    "    else:\n",
    "        eve_avg.append(sum_temp/count)\n",
    "\n",
    "assert len(geoid) == len(income) == len(population) == len(num_stations) == len(area) == len(geometry)"
   ]
  },
  {
   "cell_type": "code",
   "execution_count": 67,
   "metadata": {},
   "outputs": [],
   "source": [
    "count_data = pd.DataFrame({\n",
    "    \"geoid\": geoid,\n",
    "    \"income\": income,\n",
    "    \"area\": area,\n",
    "    \"population\": population,\n",
    "    \"num_stations\": num_stations,\n",
    "    \"tempAvg\": eve_avg,\n",
    "    \"geometry\": geometry\n",
    "})\n",
    "\n",
    "# Create a geopandas dataframe\n",
    "count_data = gpd.GeoDataFrame(count_data, geometry='geometry')"
   ]
  },
  {
   "cell_type": "code",
   "execution_count": 68,
   "metadata": {},
   "outputs": [
    {
     "data": {
      "text/plain": [
       "<Axes: >"
      ]
     },
     "execution_count": 68,
     "metadata": {},
     "output_type": "execute_result"
    },
    {
     "data": {
      "image/png": "[encoded data removed]",
      "text/plain": [
       "<Figure size 640x480 with 2 Axes>"
      ]
     },
     "metadata": {},
     "output_type": "display_data"
    }
   ],
   "source": [
    "count_data.plot(column='tempAvg', legend=True, cmap='coolwarm')"
   ]
  },
  {
   "cell_type": "code",
   "execution_count": 55,
   "metadata": {},
   "outputs": [
    {
     "name": "stdout",
     "output_type": "stream",
     "text": [
      "235\n"
     ]
    }
   ],
   "source": [
    "print(count_data['num_stations'].sum())\n",
    "\n",
    "# Save file for later use\n",
    "# count_data.to_file('../preprocessed_data/charlotte_july_2023/census_tract.shp')"
   ]
  }
 ],
 "metadata": {
  "kernelspec": {
   "display_name": "uhi",
   "language": "python",
   "name": "python3"
  },
  "language_info": {
   "codemirror_mode": {
    "name": "ipython",
    "version": 3
   },
   "file_extension": ".py",
   "mimetype": "text/x-python",
   "name": "python",
   "nbconvert_exporter": "python",
   "pygments_lexer": "ipython3",
   "version": "3.11.7"
  }
 },
 "nbformat": 4,
 "nbformat_minor": 2
}
